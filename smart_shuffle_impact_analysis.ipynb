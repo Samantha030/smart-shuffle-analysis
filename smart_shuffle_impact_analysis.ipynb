{
 "cells": [
  {
   "cell_type": "markdown",
   "id": "77f3a2ec-fec7-440c-be39-1b079962d7b7",
   "metadata": {},
   "source": [
    "## 📊 Average Session Length by Smart Shuffle Usage\n",
    "\n",
    "This bar chart shows how session length differs between users who had Smart Shuffle enabled vs. those who didn’t. We're looking to see if the feature drives higher engagement (longer listening sessions)."
   ]
  },
  {
   "cell_type": "code",
   "execution_count": 3,
   "id": "f307253a-1559-45f1-9123-93d8acdfaad0",
   "metadata": {},
   "outputs": [
    {
     "data": {
      "text/html": [
       "<div>\n",
       "<style scoped>\n",
       "    .dataframe tbody tr th:only-of-type {\n",
       "        vertical-align: middle;\n",
       "    }\n",
       "\n",
       "    .dataframe tbody tr th {\n",
       "        vertical-align: top;\n",
       "    }\n",
       "\n",
       "    .dataframe thead th {\n",
       "        text-align: right;\n",
       "    }\n",
       "</style>\n",
       "<table border=\"1\" class=\"dataframe\">\n",
       "  <thead>\n",
       "    <tr style=\"text-align: right;\">\n",
       "      <th></th>\n",
       "      <th>user_id</th>\n",
       "      <th>region</th>\n",
       "      <th>is_premium</th>\n",
       "      <th>smart_shuffle_enabled</th>\n",
       "      <th>session_length</th>\n",
       "      <th>skips</th>\n",
       "      <th>timestamp</th>\n",
       "    </tr>\n",
       "  </thead>\n",
       "  <tbody>\n",
       "    <tr>\n",
       "      <th>0</th>\n",
       "      <td>25795</td>\n",
       "      <td>North America</td>\n",
       "      <td>False</td>\n",
       "      <td>True</td>\n",
       "      <td>35.712309</td>\n",
       "      <td>3</td>\n",
       "      <td>2025-04-01 00:00:00</td>\n",
       "    </tr>\n",
       "    <tr>\n",
       "      <th>1</th>\n",
       "      <td>10860</td>\n",
       "      <td>Latin America</td>\n",
       "      <td>False</td>\n",
       "      <td>False</td>\n",
       "      <td>31.186791</td>\n",
       "      <td>5</td>\n",
       "      <td>2025-04-01 01:00:00</td>\n",
       "    </tr>\n",
       "    <tr>\n",
       "      <th>2</th>\n",
       "      <td>86820</td>\n",
       "      <td>North America</td>\n",
       "      <td>False</td>\n",
       "      <td>True</td>\n",
       "      <td>39.954116</td>\n",
       "      <td>1</td>\n",
       "      <td>2025-04-01 02:00:00</td>\n",
       "    </tr>\n",
       "    <tr>\n",
       "      <th>3</th>\n",
       "      <td>64886</td>\n",
       "      <td>North America</td>\n",
       "      <td>True</td>\n",
       "      <td>True</td>\n",
       "      <td>25.857079</td>\n",
       "      <td>1</td>\n",
       "      <td>2025-04-01 03:00:00</td>\n",
       "    </tr>\n",
       "    <tr>\n",
       "      <th>4</th>\n",
       "      <td>16265</td>\n",
       "      <td>Asia</td>\n",
       "      <td>True</td>\n",
       "      <td>False</td>\n",
       "      <td>36.473327</td>\n",
       "      <td>3</td>\n",
       "      <td>2025-04-01 04:00:00</td>\n",
       "    </tr>\n",
       "  </tbody>\n",
       "</table>\n",
       "</div>"
      ],
      "text/plain": [
       "   user_id         region  is_premium  smart_shuffle_enabled  session_length  \\\n",
       "0    25795  North America       False                   True       35.712309   \n",
       "1    10860  Latin America       False                  False       31.186791   \n",
       "2    86820  North America       False                   True       39.954116   \n",
       "3    64886  North America        True                   True       25.857079   \n",
       "4    16265           Asia        True                  False       36.473327   \n",
       "\n",
       "   skips            timestamp  \n",
       "0      3  2025-04-01 00:00:00  \n",
       "1      5  2025-04-01 01:00:00  \n",
       "2      1  2025-04-01 02:00:00  \n",
       "3      1  2025-04-01 03:00:00  \n",
       "4      3  2025-04-01 04:00:00  "
      ]
     },
     "execution_count": 3,
     "metadata": {},
     "output_type": "execute_result"
    }
   ],
   "source": [
    "import pandas as pd\n",
    "\n",
    "# Load the mock dataset\n",
    "df = pd.read_csv('./data/mock_smart_shuffle_data.csv')\n",
    "\n",
    "#preview\n",
    "df.head()"
   ]
  },
  {
   "cell_type": "code",
   "execution_count": 4,
   "id": "3a3b39bf-5e88-4754-aa28-d130ccfdf331",
   "metadata": {
    "scrolled": true
   },
   "outputs": [
    {
     "data": {
      "text/plain": [
       "user_id                  0\n",
       "region                   0\n",
       "is_premium               0\n",
       "smart_shuffle_enabled    0\n",
       "session_length           0\n",
       "skips                    0\n",
       "timestamp                0\n",
       "dtype: int64"
      ]
     },
     "execution_count": 4,
     "metadata": {},
     "output_type": "execute_result"
    }
   ],
   "source": [
    "df.isnull().sum()"
   ]
  },
  {
   "cell_type": "code",
   "execution_count": 5,
   "id": "b9c17025-4b64-4408-9107-701082db0de8",
   "metadata": {},
   "outputs": [
    {
     "data": {
      "text/plain": [
       "32.39731591353088"
      ]
     },
     "execution_count": 5,
     "metadata": {},
     "output_type": "execute_result"
    }
   ],
   "source": [
    "df.session_length.mean()"
   ]
  },
  {
   "cell_type": "code",
   "execution_count": 7,
   "id": "5b45f321-b16e-4bca-82c6-3de665167f41",
   "metadata": {},
   "outputs": [
    {
     "data": {
      "text/plain": [
       "(2000, 7)"
      ]
     },
     "execution_count": 7,
     "metadata": {},
     "output_type": "execute_result"
    }
   ],
   "source": [
    "df.shape"
   ]
  },
  {
   "cell_type": "code",
   "execution_count": null,
   "id": "71b313a3-6319-4b74-bdc1-4d2008c7bec3",
   "metadata": {},
   "outputs": [],
   "source": [
    "import matplotlib.pyplot as plt\n",
    "import seaborn as sns\n",
    "\n",
    "plt.figure(figsize=(8,5))\n",
    "sns.barplot(x = 'smart_shuffle_enabled', y = 'session_length', data = df)\n",
    "\n",
    "plt.title('Average Length of Session by Smart Shuffle Usage')\n",
    "plt.xlabel('Smart Shuffle Enabled')\n",
    "plt.ylabel('Session Length (min)')\n",
    "plt.xticks([0, 1], ['No', 'Yes'])\n",
    "plt.tight_layout()\n",
    "plt.show()"
   ]
  },
  {
   "cell_type": "markdown",
   "id": "f356214a-7ba5-45a2-8ff8-48d06e2a6470",
   "metadata": {},
   "source": [
    "#Insight Smart Shuffle by Session Length \n",
    "\n",
    "By the barcharts there is a difference in average session length between users who have smart shuffle enabled (35 minutes) and those who don't (30 minutes). This could be because users who have smart shuffle enabled listen songs that engage them more with the app, if they like the songs they are then more likely to spend more time listening to music. "
   ]
  },
  {
   "cell_type": "code",
   "execution_count": null,
   "id": "a3a756c2-e487-4e3a-9558-14f911ada5a0",
   "metadata": {},
   "outputs": [],
   "source": [
    "\n",
    "region_df = df.groupby('region')['smart_shuffle_enabled'].mean().reset_index()\n",
    "\n",
    "plt.figure(figsize=(10, 6))\n",
    "sns.barplot(x='region', y='smart_shuffle_enabled', data=region_df)\n",
    "\n",
    "plt.title('Smart Shuffle Adoption by Region')\n",
    "plt.xlabel('Region')\n",
    "plt.ylabel('% with Smart Shuffle Enabled')\n",
    "plt.ylim(0, 1) \n",
    "plt.xticks(rotation=45)\n",
    "plt.tight_layout()\n",
    "plt.show()"
   ]
  },
  {
   "cell_type": "markdown",
   "id": "e55a4818-d046-4d1a-a10e-761ff92b52f2",
   "metadata": {},
   "source": [
    "#Insight: Smart Shuffle Adoption by Region\n",
    "\n",
    "Based on the graphs it seems there is no difference in percent of region that uses Smart Shuffle. All 5 regions have about 50% of users using Smart Shuffle. "
   ]
  },
  {
   "cell_type": "code",
   "execution_count": null,
   "id": "e4062270-cb5c-4fac-b343-0db9997661b0",
   "metadata": {},
   "outputs": [],
   "source": [
    "plt.figure(figsize=(10,6))\n",
    "sns.barplot(x='smart_shuffle_enabled', y= 'skips',data = df)\n",
    "\n",
    "plt.title('Smart Shuffle enables by Skips used')"
   ]
  },
  {
   "cell_type": "markdown",
   "id": "909cec39-7788-466f-8d23-af3bf4a1479b",
   "metadata": {},
   "source": [
    "#Inight Smart Shuffle by Average Amount of Skips\n",
    "\n",
    "It is clear by the barchart above that there is a difference in average skips between users who have smart shuffle enables - average of 2 -  vs those who do not - average of 3. This shows smart shuffle can improve the satisfaction of songs played during a session where the user may use less skips since the music is tailored to their liking. "
   ]
  },
  {
   "cell_type": "markdown",
   "id": "ac70940d-e436-44af-9c07-8cace4cf5443",
   "metadata": {},
   "source": [
    "#T-Test"
   ]
  },
  {
   "cell_type": "code",
   "execution_count": 15,
   "id": "bcb22db0-2323-4fe0-bbec-0d7dacecb48f",
   "metadata": {},
   "outputs": [],
   "source": [
    "from scipy import stats"
   ]
  },
  {
   "cell_type": "code",
   "execution_count": 16,
   "id": "03a637a7-61f1-43e7-ae54-d82fcfa4becf",
   "metadata": {},
   "outputs": [
    {
     "data": {
      "text/plain": [
       "Index(['user_id', 'region', 'is_premium', 'smart_shuffle_enabled',\n",
       "       'session_length', 'skips', 'timestamp'],\n",
       "      dtype='object')"
      ]
     },
     "execution_count": 16,
     "metadata": {},
     "output_type": "execute_result"
    }
   ],
   "source": [
    "df.columns"
   ]
  },
  {
   "cell_type": "code",
   "execution_count": 17,
   "id": "d4a827a0-0a8c-46d4-b77a-8e780d2ba41e",
   "metadata": {
    "scrolled": true
   },
   "outputs": [],
   "source": [
    "enabled_skips = df[df['smart_shuffle_enabled'] == 1]['skips']\n",
    "disabled_skips = df[df['smart_shuffle_enabled'] == 0]['skips']"
   ]
  },
  {
   "cell_type": "code",
   "execution_count": 18,
   "id": "8fcae946-ce84-4f35-9a37-57f18dfcf7cc",
   "metadata": {},
   "outputs": [
    {
     "name": "stdout",
     "output_type": "stream",
     "text": [
      "T-statsitic:  -8.843118069936338\n",
      "P-value:  2.0014527241221168e-18\n"
     ]
    }
   ],
   "source": [
    "t_stat, p_value =  stats.ttest_ind(enabled_skips, disabled_skips, equal_var=False)\n",
    "print(\"T-statsitic: \", t_stat)\n",
    "print(\"P-value: \", p_value)"
   ]
  },
  {
   "cell_type": "markdown",
   "id": "6bdbc0e0-f4c2-498d-a125-32b2b08e51e2",
   "metadata": {},
   "source": [
    "###Insight Results from T-Test\n",
    "The difference in means between skips for users with smart shuffle is vastly different than users without smart shuffle.\n",
    "The P-value is very small (<0.05) meaning there is strong statistical evidence that the smart shuffle feature reduces the average amount of skips per session, likley improving user satisfaction with song reccommendations. "
   ]
  }
 ],
 "metadata": {
  "kernelspec": {
   "display_name": "Python [conda env:base] *",
   "language": "python",
   "name": "conda-base-py"
  },
  "language_info": {
   "codemirror_mode": {
    "name": "ipython",
    "version": 3
   },
   "file_extension": ".py",
   "mimetype": "text/x-python",
   "name": "python",
   "nbconvert_exporter": "python",
   "pygments_lexer": "ipython3",
   "version": "3.12.7"
  }
 },
 "nbformat": 4,
 "nbformat_minor": 5
}
